{
 "cells": [
  {
   "cell_type": "markdown",
   "metadata": {},
   "source": [
    "##                            CODE ALPHA   WEEK - 2   DATA PREPROCESSING "
   ]
  },
  {
   "cell_type": "markdown",
   "metadata": {},
   "source": [
    "1. DATA INTEGRITY"
   ]
  },
  {
   "cell_type": "code",
   "execution_count": 1,
   "metadata": {},
   "outputs": [],
   "source": [
    "import pandas as pd\n",
    "import numpy as np\n",
    "import matplotlib.pylab as plt\n",
    "import seaborn as sns\n",
    "%matplotlib inline"
   ]
  },
  {
   "cell_type": "code",
   "execution_count": 3,
   "metadata": {},
   "outputs": [],
   "source": [
    "df=pd.read_csv(\"D:/faryal/CodeAlpha datascience internship/week 2/Advertising.csv\")\n"
   ]
  },
  {
   "cell_type": "code",
   "execution_count": 4,
   "metadata": {},
   "outputs": [
    {
     "data": {
      "text/html": [
       "<div>\n",
       "<style scoped>\n",
       "    .dataframe tbody tr th:only-of-type {\n",
       "        vertical-align: middle;\n",
       "    }\n",
       "\n",
       "    .dataframe tbody tr th {\n",
       "        vertical-align: top;\n",
       "    }\n",
       "\n",
       "    .dataframe thead th {\n",
       "        text-align: right;\n",
       "    }\n",
       "</style>\n",
       "<table border=\"1\" class=\"dataframe\">\n",
       "  <thead>\n",
       "    <tr style=\"text-align: right;\">\n",
       "      <th></th>\n",
       "      <th>Unnamed: 0</th>\n",
       "      <th>TV</th>\n",
       "      <th>Radio</th>\n",
       "      <th>Newspaper</th>\n",
       "      <th>Sales</th>\n",
       "    </tr>\n",
       "  </thead>\n",
       "  <tbody>\n",
       "    <tr>\n",
       "      <th>0</th>\n",
       "      <td>1</td>\n",
       "      <td>230.1</td>\n",
       "      <td>37.8</td>\n",
       "      <td>69.2</td>\n",
       "      <td>22.1</td>\n",
       "    </tr>\n",
       "    <tr>\n",
       "      <th>1</th>\n",
       "      <td>2</td>\n",
       "      <td>44.5</td>\n",
       "      <td>39.3</td>\n",
       "      <td>45.1</td>\n",
       "      <td>10.4</td>\n",
       "    </tr>\n",
       "    <tr>\n",
       "      <th>2</th>\n",
       "      <td>3</td>\n",
       "      <td>17.2</td>\n",
       "      <td>45.9</td>\n",
       "      <td>69.3</td>\n",
       "      <td>9.3</td>\n",
       "    </tr>\n",
       "    <tr>\n",
       "      <th>3</th>\n",
       "      <td>4</td>\n",
       "      <td>151.5</td>\n",
       "      <td>41.3</td>\n",
       "      <td>58.5</td>\n",
       "      <td>18.5</td>\n",
       "    </tr>\n",
       "    <tr>\n",
       "      <th>4</th>\n",
       "      <td>5</td>\n",
       "      <td>180.8</td>\n",
       "      <td>10.8</td>\n",
       "      <td>58.4</td>\n",
       "      <td>12.9</td>\n",
       "    </tr>\n",
       "  </tbody>\n",
       "</table>\n",
       "</div>"
      ],
      "text/plain": [
       "   Unnamed: 0     TV  Radio  Newspaper  Sales\n",
       "0           1  230.1   37.8       69.2   22.1\n",
       "1           2   44.5   39.3       45.1   10.4\n",
       "2           3   17.2   45.9       69.3    9.3\n",
       "3           4  151.5   41.3       58.5   18.5\n",
       "4           5  180.8   10.8       58.4   12.9"
      ]
     },
     "execution_count": 4,
     "metadata": {},
     "output_type": "execute_result"
    }
   ],
   "source": [
    "df.head()"
   ]
  },
  {
   "cell_type": "code",
   "execution_count": 5,
   "metadata": {},
   "outputs": [
    {
     "name": "stdout",
     "output_type": "stream",
     "text": [
      "Unnamed: 0      int64\n",
      "TV            float64\n",
      "Radio         float64\n",
      "Newspaper     float64\n",
      "Sales         float64\n",
      "dtype: object\n"
     ]
    }
   ],
   "source": [
    "# list the data types for each column\n",
    "print(df.dtypes)"
   ]
  },
  {
   "cell_type": "code",
   "execution_count": 6,
   "metadata": {},
   "outputs": [
    {
     "name": "stdout",
     "output_type": "stream",
     "text": [
      "Size of the dataset:  1000\n",
      "Columns in the dataset:  Index(['Unnamed: 0', 'TV', 'Radio', 'Newspaper', 'Sales'], dtype='object')\n"
     ]
    }
   ],
   "source": [
    "print(\"Size of the dataset: \", df.size)\n",
    "print(\"Columns in the dataset: \", df.keys())"
   ]
  },
  {
   "cell_type": "code",
   "execution_count": 7,
   "metadata": {},
   "outputs": [
    {
     "name": "stdout",
     "output_type": "stream",
     "text": [
      "Number of rows 200\n",
      "Number of columns 5\n"
     ]
    }
   ],
   "source": [
    "print(\"Number of rows\",df.shape[0])\n",
    "print(\"Number of columns\",df.shape[1])"
   ]
  },
  {
   "cell_type": "code",
   "execution_count": 8,
   "metadata": {},
   "outputs": [
    {
     "data": {
      "text/html": [
       "<div>\n",
       "<style scoped>\n",
       "    .dataframe tbody tr th:only-of-type {\n",
       "        vertical-align: middle;\n",
       "    }\n",
       "\n",
       "    .dataframe tbody tr th {\n",
       "        vertical-align: top;\n",
       "    }\n",
       "\n",
       "    .dataframe thead th {\n",
       "        text-align: right;\n",
       "    }\n",
       "</style>\n",
       "<table border=\"1\" class=\"dataframe\">\n",
       "  <thead>\n",
       "    <tr style=\"text-align: right;\">\n",
       "      <th></th>\n",
       "      <th>Unnamed: 0</th>\n",
       "      <th>TV</th>\n",
       "      <th>Radio</th>\n",
       "      <th>Newspaper</th>\n",
       "      <th>Sales</th>\n",
       "    </tr>\n",
       "  </thead>\n",
       "  <tbody>\n",
       "    <tr>\n",
       "      <th>count</th>\n",
       "      <td>200.000000</td>\n",
       "      <td>200.000000</td>\n",
       "      <td>200.000000</td>\n",
       "      <td>200.000000</td>\n",
       "      <td>200.000000</td>\n",
       "    </tr>\n",
       "    <tr>\n",
       "      <th>mean</th>\n",
       "      <td>100.500000</td>\n",
       "      <td>147.042500</td>\n",
       "      <td>23.264000</td>\n",
       "      <td>30.554000</td>\n",
       "      <td>14.022500</td>\n",
       "    </tr>\n",
       "    <tr>\n",
       "      <th>std</th>\n",
       "      <td>57.879185</td>\n",
       "      <td>85.854236</td>\n",
       "      <td>14.846809</td>\n",
       "      <td>21.778621</td>\n",
       "      <td>5.217457</td>\n",
       "    </tr>\n",
       "    <tr>\n",
       "      <th>min</th>\n",
       "      <td>1.000000</td>\n",
       "      <td>0.700000</td>\n",
       "      <td>0.000000</td>\n",
       "      <td>0.300000</td>\n",
       "      <td>1.600000</td>\n",
       "    </tr>\n",
       "    <tr>\n",
       "      <th>25%</th>\n",
       "      <td>50.750000</td>\n",
       "      <td>74.375000</td>\n",
       "      <td>9.975000</td>\n",
       "      <td>12.750000</td>\n",
       "      <td>10.375000</td>\n",
       "    </tr>\n",
       "    <tr>\n",
       "      <th>50%</th>\n",
       "      <td>100.500000</td>\n",
       "      <td>149.750000</td>\n",
       "      <td>22.900000</td>\n",
       "      <td>25.750000</td>\n",
       "      <td>12.900000</td>\n",
       "    </tr>\n",
       "    <tr>\n",
       "      <th>75%</th>\n",
       "      <td>150.250000</td>\n",
       "      <td>218.825000</td>\n",
       "      <td>36.525000</td>\n",
       "      <td>45.100000</td>\n",
       "      <td>17.400000</td>\n",
       "    </tr>\n",
       "    <tr>\n",
       "      <th>max</th>\n",
       "      <td>200.000000</td>\n",
       "      <td>296.400000</td>\n",
       "      <td>49.600000</td>\n",
       "      <td>114.000000</td>\n",
       "      <td>27.000000</td>\n",
       "    </tr>\n",
       "  </tbody>\n",
       "</table>\n",
       "</div>"
      ],
      "text/plain": [
       "       Unnamed: 0          TV       Radio   Newspaper       Sales\n",
       "count  200.000000  200.000000  200.000000  200.000000  200.000000\n",
       "mean   100.500000  147.042500   23.264000   30.554000   14.022500\n",
       "std     57.879185   85.854236   14.846809   21.778621    5.217457\n",
       "min      1.000000    0.700000    0.000000    0.300000    1.600000\n",
       "25%     50.750000   74.375000    9.975000   12.750000   10.375000\n",
       "50%    100.500000  149.750000   22.900000   25.750000   12.900000\n",
       "75%    150.250000  218.825000   36.525000   45.100000   17.400000\n",
       "max    200.000000  296.400000   49.600000  114.000000   27.000000"
      ]
     },
     "execution_count": 8,
     "metadata": {},
     "output_type": "execute_result"
    }
   ],
   "source": [
    "df.describe()"
   ]
  },
  {
   "cell_type": "code",
   "execution_count": 9,
   "metadata": {},
   "outputs": [
    {
     "data": {
      "text/plain": [
       "Unnamed: 0    200\n",
       "TV            190\n",
       "Radio         167\n",
       "Newspaper     172\n",
       "Sales         121\n",
       "dtype: int64"
      ]
     },
     "execution_count": 9,
     "metadata": {},
     "output_type": "execute_result"
    }
   ],
   "source": [
    "# Insight about unique values\n",
    "df.nunique()"
   ]
  },
  {
   "cell_type": "markdown",
   "metadata": {},
   "source": [
    "2. MISSING DATA HANDLING"
   ]
  },
  {
   "cell_type": "code",
   "execution_count": 10,
   "metadata": {},
   "outputs": [
    {
     "name": "stdout",
     "output_type": "stream",
     "text": [
      "Is there any null or missing values ?  False\n",
      "percentage of null values in particular column Unnamed: 0    0.0\n",
      "TV            0.0\n",
      "Radio         0.0\n",
      "Newspaper     0.0\n",
      "Sales         0.0\n",
      "dtype: float64\n"
     ]
    }
   ],
   "source": [
    "print(\"Is there any null or missing values ? \",df.isnull().sum().any())\n",
    "print(\"percentage of null values in particular column\",df.isnull().sum()/len(df)*1000)"
   ]
  },
  {
   "cell_type": "markdown",
   "metadata": {},
   "source": [
    "A. Drop all unnecessary columns"
   ]
  },
  {
   "cell_type": "code",
   "execution_count": 11,
   "metadata": {},
   "outputs": [
    {
     "name": "stdout",
     "output_type": "stream",
     "text": [
      "unnamed column is droped now\n"
     ]
    },
    {
     "data": {
      "text/plain": [
       "TV           0\n",
       "Radio        0\n",
       "Newspaper    0\n",
       "Sales        0\n",
       "dtype: int64"
      ]
     },
     "execution_count": 11,
     "metadata": {},
     "output_type": "execute_result"
    }
   ],
   "source": [
    "# drop unwanted columns\n",
    "\n",
    "df.drop('Unnamed: 0',axis=1, inplace=True)\n",
    "print(\"unnamed column is droped now\")\n",
    "\n",
    "df.isna().sum()"
   ]
  },
  {
   "cell_type": "markdown",
   "metadata": {},
   "source": [
    "3.DUPLICATE REMOVAL"
   ]
  },
  {
   "cell_type": "code",
   "execution_count": 12,
   "metadata": {},
   "outputs": [
    {
     "name": "stdout",
     "output_type": "stream",
     "text": [
      "<class 'pandas.core.frame.DataFrame'>\n",
      "RangeIndex: 200 entries, 0 to 199\n",
      "Data columns (total 4 columns):\n",
      " #   Column     Non-Null Count  Dtype  \n",
      "---  ------     --------------  -----  \n",
      " 0   TV         200 non-null    float64\n",
      " 1   Radio      200 non-null    float64\n",
      " 2   Newspaper  200 non-null    float64\n",
      " 3   Sales      200 non-null    float64\n",
      "dtypes: float64(4)\n",
      "memory usage: 6.4 KB\n",
      "Information of the dataset: \n",
      " None\n",
      "After removing duplicates: \n",
      " None\n",
      "Size of the dataset after removing duplicates: \n",
      " 800\n"
     ]
    }
   ],
   "source": [
    "print(\"Information of the dataset: \\n\",df.info())\n",
    "print(\"After removing duplicates: \\n\",df.drop_duplicates(inplace=True)) #cleaning the data by checking the duplicates\n",
    "print(\"Size of the dataset after removing duplicates: \\n\",df.size)"
   ]
  },
  {
   "cell_type": "markdown",
   "metadata": {},
   "source": [
    " OUTLIER DETECTION"
   ]
  },
  {
   "cell_type": "markdown",
   "metadata": {},
   "source": [
    "IDENTIFYING OUTLIERS USING Z-SCORE"
   ]
  },
  {
   "cell_type": "code",
   "execution_count": 20,
   "metadata": {},
   "outputs": [
    {
     "data": {
      "image/png": "[encoded data removed]",
      "text/plain": [
       "<Figure size 600x600 with 3 Axes>"
      ]
     },
     "metadata": {},
     "output_type": "display_data"
    }
   ],
   "source": [
    "#ploting box plot to find outliers\n",
    "plt.figure(figsize=(6, 6))\n",
    "plt.subplot(2,3,1)\n",
    "sns.boxplot(x = 'Newspaper', y = 'Sales', data = df)\n",
    "plt.subplot(2,3,2)\n",
    "sns.boxplot(x = 'Radio', y = 'Sales', data = df)\n",
    "plt.subplot(2,3,3)\n",
    "sns.boxplot(x = 'TV', y = 'Sales', data = df)\n",
    "\n",
    "plt.show()"
   ]
  },
  {
   "cell_type": "code",
   "execution_count": 13,
   "metadata": {},
   "outputs": [
    {
     "name": "stdout",
     "output_type": "stream",
     "text": [
      "Outliers FOUND \n",
      ": Empty DataFrame\n",
      "Columns: [TV, Radio, Newspaper, Sales, Z-Score]\n",
      "Index: []\n"
     ]
    }
   ],
   "source": [
    "import pandas as pd\n",
    "import numpy as np\n",
    "\n",
    "# Example function to detect outliers based on Z-score\n",
    "def detect_outliers_zscore(df, column_name, threshold=3):\n",
    "    if df is not None and column_name in df.columns:\n",
    "        # Calculate Z-scores\n",
    "        df['Z-Score'] = (df[column_name] - df[column_name].mean()) / df[column_name].std()\n",
    "        \n",
    "        # Identify outliers\n",
    "        outliers = df[df['Z-Score'].abs() > threshold]\n",
    "        return outliers\n",
    "    else:\n",
    "        print(\"DataFrame is None or column does not exist.\")\n",
    "        return None\n",
    "\n",
    "\n",
    "# Call the function with the DataFrame and column name\n",
    "outliers = detect_outliers_zscore(df, 'Sales')\n",
    "\n",
    "# Check if outliers were found\n",
    "if outliers is not None:\n",
    "    print(\"Outliers FOUND \\n:\", outliers)\n",
    "else:\n",
    "    print(\"No outliers found or DataFrame issue.\")"
   ]
  },
  {
   "cell_type": "markdown",
   "metadata": {},
   "source": [
    "ADRESSING OUTLIERS"
   ]
  },
  {
   "cell_type": "code",
   "execution_count": 14,
   "metadata": {},
   "outputs": [
    {
     "name": "stdout",
     "output_type": "stream",
     "text": [
      "NO OUTLIER LEFT \n",
      "       TV  Radio  Newspaper  Sales   Z-Score\n",
      "0  230.1   37.8       69.2   22.1  1.548168\n",
      "1   44.5   39.3       45.1   10.4 -0.694304\n",
      "2   17.2   45.9       69.3    9.3 -0.905135\n",
      "3  151.5   41.3       58.5   18.5  0.858177\n",
      "4  180.8   10.8       58.4   12.9 -0.215143\n"
     ]
    }
   ],
   "source": [
    "import pandas as pd\n",
    "import numpy as np\n",
    "\n",
    "if df is not None and 'Sales' in df.columns:\n",
    "    # Calculate Z-scores\n",
    "    df['Z-Score'] = (df['Sales'] - df['Sales'].mean()) / df['Sales'].std()\n",
    "    \n",
    "    # Check if Z-Score column was created\n",
    "    if 'Z-Score' in df.columns:\n",
    "        # Remove outliers\n",
    "        df_no_outliers = df[df['Z-Score'].abs() <= 3]\n",
    "        print(\"NO OUTLIER LEFT \\n\",df_no_outliers.head())  # Display the first few rows without outliers\n",
    "    else:\n",
    "        print(\"'Z-Score' column is missing. Please calculate it first.\")\n",
    "else:\n",
    "    print(\"DataFrame is None or 'Sales' column is missing.\")"
   ]
  },
  {
   "cell_type": "markdown",
   "metadata": {},
   "source": [
    "NO OUTLIERS LEFT IN THE DATA SET"
   ]
  },
  {
   "cell_type": "code",
   "execution_count": 15,
   "metadata": {},
   "outputs": [
    {
     "data": {
      "image/png": "[encoded data removed]",
      "text/plain": [
       "<Figure size 1000x600 with 1 Axes>"
      ]
     },
     "metadata": {},
     "output_type": "display_data"
    }
   ],
   "source": [
    "import matplotlib.pyplot as plt\n",
    "\n",
    "# Plot histogram of Z-scores after filtering\n",
    "plt.figure(figsize=(10, 6))\n",
    "plt.hist(df_no_outliers['Z-Score'], bins=30, edgecolor='k', alpha=0.7)\n",
    "plt.axvline(x=-3, color='r', linestyle='--', label='Z = -3')\n",
    "plt.axvline(x=3, color='r', linestyle='--', label='Z = 3')\n",
    "plt.xlabel('Z-Score')\n",
    "plt.ylabel('Frequency')\n",
    "plt.title('Histogram of Z-Scores After Filtering')\n",
    "plt.legend()\n",
    "plt.show()"
   ]
  },
  {
   "cell_type": "markdown",
   "metadata": {},
   "source": [
    "FEATURE SCALING for tv and sales"
   ]
  },
  {
   "cell_type": "code",
   "execution_count": 23,
   "metadata": {},
   "outputs": [
    {
     "data": {
      "image/png": "[encoded data removed]",
      "text/plain": [
       "<Figure size 1000x600 with 1 Axes>"
      ]
     },
     "metadata": {},
     "output_type": "display_data"
    }
   ],
   "source": [
    "#regression  plot\n",
    "\n",
    "plt.figure(figsize = ( 10 , 6 ))\n",
    "sns.regplot( x = \"TV\" , y = \"Sales\" , data = df_no_outliers)\n",
    "plt.title(\"REGRESSION PLOT OF tv VS Sales\")\n",
    "plt.xlabel(\"TV\")\n",
    "plt.ylabel(\"Sales\")\n",
    "plt.show()"
   ]
  },
  {
   "cell_type": "code",
   "execution_count": 24,
   "metadata": {},
   "outputs": [
    {
     "data": {
      "image/png": "[encoded data removed]",
      "text/plain": [
       "<Figure size 200x200 with 1 Axes>"
      ]
     },
     "metadata": {},
     "output_type": "display_data"
    }
   ],
   "source": [
    "#boxplot \n",
    "\n",
    "plt.figure(figsize = ( 2 , 2 ))\n",
    "sns.boxplot( x = \"TV\" , y = \"Sales\" , data = df_no_outliers)\n",
    "plt.title(\"BOX PLOT OF tv VS sales\")\n",
    "plt.xlabel(\"TV\")\n",
    "plt.ylabel(\"Sales\")\n",
    "plt.show()"
   ]
  },
  {
   "cell_type": "code",
   "execution_count": 25,
   "metadata": {},
   "outputs": [
    {
     "data": {
      "text/plain": [
       "Newspaper    0.228299\n",
       "Radio        0.576223\n",
       "TV           0.782224\n",
       "Sales        1.000000\n",
       "Z-Score      1.000000\n",
       "Name: Sales, dtype: float64"
      ]
     },
     "execution_count": 25,
     "metadata": {},
     "output_type": "execute_result"
    }
   ],
   "source": [
    "df_no_outliers.corr()['Sales'].sort_values()"
   ]
  },
  {
   "cell_type": "markdown",
   "metadata": {},
   "source": [
    "TRAIN-SPLIT DATASET"
   ]
  },
  {
   "cell_type": "code",
   "execution_count": 37,
   "metadata": {},
   "outputs": [],
   "source": [
    "from sklearn.model_selection import train_test_split\n",
    "\n",
    "\n",
    "df_train_x = df[['TV']]\n",
    "\n",
    "# Target variable column\n",
    "df_train_y = df['Sales']\n",
    "\n",
    "# Train Test Splitting\n",
    "x_train, x_test, y_train, y_test = train_test_split(df_train_x, df_train_y, test_size=0.20, random_state=42)"
   ]
  },
  {
   "cell_type": "code",
   "execution_count": 38,
   "metadata": {},
   "outputs": [
    {
     "name": "stdout",
     "output_type": "stream",
     "text": [
      "<class 'pandas.core.frame.DataFrame'>\n",
      "<class 'pandas.core.series.Series'>\n",
      "<class 'pandas.core.frame.DataFrame'>\n",
      "<class 'pandas.core.series.Series'>\n"
     ]
    }
   ],
   "source": [
    "print(type(x_train))\n",
    "print(type(y_train))\n",
    "print(type(x_test))\n",
    "print(type(y_test))\n"
   ]
  },
  {
   "cell_type": "code",
   "execution_count": 39,
   "metadata": {},
   "outputs": [],
   "source": [
    "X_train = x_train.values if isinstance(x_train, pd.Series) else x_train\n",
    "y_train = y_train.values if isinstance(y_train, pd.Series) else y_train\n",
    "X_test = x_test.values if isinstance(x_test, pd.Series) else x_test\n",
    "y_test = y_test.values if isinstance(y_test, pd.Series) else y_test"
   ]
  },
  {
   "cell_type": "code",
   "execution_count": 40,
   "metadata": {},
   "outputs": [],
   "source": [
    "# Convert DataFrames to Series (assuming single feature for simplicity)\n",
    "X_train_series = X_train.squeeze()  # Converts to Series if single column\n",
    "X_test_series = X_test.squeeze()"
   ]
  },
  {
   "cell_type": "code",
   "execution_count": 41,
   "metadata": {},
   "outputs": [],
   "source": [
    "# Combine the data into a single DataFrame\n",
    "combined_df = pd.DataFrame({\n",
    "    'X_train': X_train_series.reset_index(drop=True),\n",
    "    'y_train': pd.Series(y_train).reset_index(drop=True),\n",
    "    'X_test': X_test_series.reset_index(drop=True),\n",
    "    'y_test': pd.Series(y_test).reset_index(drop=True)\n",
    "})"
   ]
  },
  {
   "cell_type": "code",
   "execution_count": 42,
   "metadata": {},
   "outputs": [],
   "source": [
    "# Save to CSV\n",
    "combined_df.to_csv('D:/faryal/CodeAlpha datascience internship/week 2/combined_train_test_data.csv', index=False)\n",
    "\n"
   ]
  },
  {
   "cell_type": "code",
   "execution_count": 43,
   "metadata": {},
   "outputs": [
    {
     "name": "stdout",
     "output_type": "stream",
     "text": [
      "     X_train  y_train  X_test  y_test\n",
      "0      116.0     11.0   163.3    16.9\n",
      "1      177.0     12.8   195.4    22.4\n",
      "2       43.1     10.1   292.9    21.4\n",
      "3       62.3      9.7    11.7     7.3\n",
      "4      224.0     11.6   220.3    24.7\n",
      "..       ...      ...     ...     ...\n",
      "155     25.0      7.2     NaN     NaN\n",
      "156    204.1     19.0     NaN     NaN\n",
      "157    217.7     19.4     NaN     NaN\n",
      "158    165.6     12.6     NaN     NaN\n",
      "159    280.2     14.8     NaN     NaN\n",
      "\n",
      "[160 rows x 4 columns]\n"
     ]
    }
   ],
   "source": [
    "# Optional: Read and print the combined data\n",
    "combined_read = pd.read_csv('D:/faryal/CodeAlpha datascience internship/week 2/combined_train_test_data.csv')\n",
    "print(combined_read)"
   ]
  },
  {
   "cell_type": "markdown",
   "metadata": {},
   "source": [
    "FARYAL SHAKEEL\n",
    "CODEALPHA WEEK - 2\n",
    "TASK1-DATAPREPROCESSING\n",
    "BS-COMPUTER SCIENCE\n",
    "4 SEPT 2024"
   ]
  }
 ],
 "metadata": {
  "kernelspec": {
   "display_name": "base",
   "language": "python",
   "name": "python3"
  },
  "language_info": {
   "codemirror_mode": {
    "name": "ipython",
    "version": 3
   },
   "file_extension": ".py",
   "mimetype": "text/x-python",
   "name": "python",
   "nbconvert_exporter": "python",
   "pygments_lexer": "ipython3",
   "version": "3.12.4"
  }
 },
 "nbformat": 4,
 "nbformat_minor": 2
}
